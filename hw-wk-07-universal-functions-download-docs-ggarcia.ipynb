{
 "cells": [
  {
   "cell_type": "markdown",
   "id": "f6c4233d",
   "metadata": {},
   "source": [
    "# 1. Demo downloading files from websites \n",
    "\n",
    "There are ```txt``` and ```pdf``` files on:\n",
    "\n",
    "```https://sandeepmj.github.io/scrape-example-page/pages.html```\n",
    "\n",
    "Do the following:\n",
    "\n",
    "1. Download all ```pdf``` files.\n",
    "2. Download all files at one time."
   ]
  },
  {
   "cell_type": "code",
   "execution_count": 2,
   "id": "cf4f97e9",
   "metadata": {},
   "outputs": [],
   "source": [
    "## create new cells as necessary\n",
    "\n",
    "from bs4 import BeautifulSoup\n",
    "import requests\n",
    "import time\n",
    "from random import randrange"
   ]
  },
  {
   "cell_type": "code",
   "execution_count": 3,
   "id": "578de155",
   "metadata": {},
   "outputs": [
    {
     "data": {
      "text/plain": [
       "200"
      ]
     },
     "execution_count": 3,
     "metadata": {},
     "output_type": "execute_result"
    }
   ],
   "source": [
    "# url to scrape\n",
    "url = \"https://sandeepmj.github.io/scrape-example-page/pages.html\"\n",
    "response = requests.get(url)\n",
    "response.status_code"
   ]
  },
  {
   "cell_type": "code",
   "execution_count": 4,
   "id": "ebf624ac",
   "metadata": {},
   "outputs": [],
   "source": [
    "# gonna get the soup\n",
    "\n",
    "soup = BeautifulSoup(response.text, \"html.parser\")"
   ]
  },
  {
   "cell_type": "code",
   "execution_count": 9,
   "id": "96a13dda",
   "metadata": {
    "scrolled": true
   },
   "outputs": [
    {
     "data": {
      "text/plain": [
       "<ul class=\"pdfs downloadable\">\n",
       "<p class=\"pages\">Download this list of PDFs</p>\n",
       "<li>PDF Document <a href=\"files/pdf_1.pdf\">1</a> </li>\n",
       "<li>PDF Document <a href=\"files/pdf_2.pdf\">2</a></li>\n",
       "<li>PDF Document <a href=\"files/pdf_3.pdf\">3</a></li>\n",
       "<li>PDF Document <a href=\"files/pdf_4.pdf\">4</a></li>\n",
       "<li>PDF Document <a href=\"files/pdf_5.pdf\">5</a></li>\n",
       "<li>PDF Document <a href=\"files/pdf_6.pdf\">6</a></li>\n",
       "<li>PDF Document <a href=\"files/pdf_7.pdf\">7</a></li>\n",
       "<li>PDF Document <a href=\"files/pdf_8.pdf\">8</a></li>\n",
       "<li>PDF Document <a href=\"files/pdf_9.pdf\">9</a></li>\n",
       "<li>PDF Document <a href=\"files/pdf_10.pdf\">10</a></li>\n",
       "</ul>"
      ]
     },
     "execution_count": 9,
     "metadata": {},
     "output_type": "execute_result"
    }
   ],
   "source": [
    "## save in list called txt_holder\n",
    "\n",
    "pdf_holder = soup.find(\"ul\", class_=\"pdfs\")\n",
    "\n",
    "pdf_holder"
   ]
  },
  {
   "cell_type": "code",
   "execution_count": 10,
   "id": "79093aab",
   "metadata": {},
   "outputs": [
    {
     "data": {
      "text/plain": [
       "[<a href=\"files/pdf_1.pdf\">1</a>,\n",
       " <a href=\"files/pdf_2.pdf\">2</a>,\n",
       " <a href=\"files/pdf_3.pdf\">3</a>,\n",
       " <a href=\"files/pdf_4.pdf\">4</a>,\n",
       " <a href=\"files/pdf_5.pdf\">5</a>,\n",
       " <a href=\"files/pdf_6.pdf\">6</a>,\n",
       " <a href=\"files/pdf_7.pdf\">7</a>,\n",
       " <a href=\"files/pdf_8.pdf\">8</a>,\n",
       " <a href=\"files/pdf_9.pdf\">9</a>,\n",
       " <a href=\"files/pdf_10.pdf\">10</a>]"
      ]
     },
     "execution_count": 10,
     "metadata": {},
     "output_type": "execute_result"
    }
   ],
   "source": [
    "## targetting the a tag \n",
    "\n",
    "links_a_tags = pdf_holder.find_all(\"a\")\n",
    "links_a_tags"
   ]
  },
  {
   "cell_type": "code",
   "execution_count": 11,
   "id": "e1435f00",
   "metadata": {},
   "outputs": [
    {
     "data": {
      "text/plain": [
       "['files/pdf_1.pdf',\n",
       " 'files/pdf_2.pdf',\n",
       " 'files/pdf_3.pdf',\n",
       " 'files/pdf_4.pdf',\n",
       " 'files/pdf_5.pdf',\n",
       " 'files/pdf_6.pdf',\n",
       " 'files/pdf_7.pdf',\n",
       " 'files/pdf_8.pdf',\n",
       " 'files/pdf_9.pdf',\n",
       " 'files/pdf_10.pdf']"
      ]
     },
     "execution_count": 11,
     "metadata": {},
     "output_type": "execute_result"
    }
   ],
   "source": [
    "# keep targetting the barebone links:\n",
    "\n",
    "links = []\n",
    "\n",
    "for a_tag in links_a_tags:\n",
    "    links.append(a_tag.get(\"href\"))\n",
    "    \n",
    "links"
   ]
  },
  {
   "cell_type": "code",
   "execution_count": 13,
   "id": "853a77a8",
   "metadata": {},
   "outputs": [],
   "source": [
    "## base url:\n",
    "\n",
    "base_url = \"https://sandeepmj.github.io/scrape-example-page/\"\n"
   ]
  },
  {
   "cell_type": "code",
   "execution_count": 14,
   "id": "49806190",
   "metadata": {
    "scrolled": true
   },
   "outputs": [
    {
     "data": {
      "text/plain": [
       "['https://sandeepmj.github.io/scrape-example-page/files/pdf_1.pdf',\n",
       " 'https://sandeepmj.github.io/scrape-example-page/files/pdf_2.pdf',\n",
       " 'https://sandeepmj.github.io/scrape-example-page/files/pdf_3.pdf',\n",
       " 'https://sandeepmj.github.io/scrape-example-page/files/pdf_4.pdf',\n",
       " 'https://sandeepmj.github.io/scrape-example-page/files/pdf_5.pdf',\n",
       " 'https://sandeepmj.github.io/scrape-example-page/files/pdf_6.pdf',\n",
       " 'https://sandeepmj.github.io/scrape-example-page/files/pdf_7.pdf',\n",
       " 'https://sandeepmj.github.io/scrape-example-page/files/pdf_8.pdf',\n",
       " 'https://sandeepmj.github.io/scrape-example-page/files/pdf_9.pdf',\n",
       " 'https://sandeepmj.github.io/scrape-example-page/files/pdf_10.pdf']"
      ]
     },
     "execution_count": 14,
     "metadata": {},
     "output_type": "execute_result"
    }
   ],
   "source": [
    "## lc\n",
    "all_links = [base_url + link for link in links]\n",
    "\n",
    "all_links"
   ]
  },
  {
   "cell_type": "code",
   "execution_count": 15,
   "id": "b6139958",
   "metadata": {},
   "outputs": [],
   "source": [
    "# wget is used to download files like documents from websites. \n",
    "import wget"
   ]
  },
  {
   "cell_type": "code",
   "execution_count": 16,
   "id": "2d4ab582",
   "metadata": {},
   "outputs": [
    {
     "name": "stdout",
     "output_type": "stream",
     "text": [
      "Downloading link 1 of10\n",
      "100% [..........................................................] 12812 / 12812Snoozer for 6 seconds next link\n",
      "Downloading link 2 of10\n",
      "100% [..........................................................] 12897 / 12897Snoozer for 6 seconds next link\n",
      "Downloading link 3 of10\n",
      "100% [..........................................................] 12908 / 12908Snoozer for 3 seconds next link\n",
      "Downloading link 4 of10\n",
      "100% [..........................................................] 12843 / 12843Snoozer for 5 seconds next link\n",
      "Downloading link 5 of10\n",
      "100% [..........................................................] 12881 / 12881Snoozer for 6 seconds next link\n",
      "Downloading link 6 of10\n",
      "100% [..........................................................] 12906 / 12906Snoozer for 3 seconds next link\n",
      "Downloading link 7 of10\n",
      "100% [..........................................................] 12816 / 12816Snoozer for 6 seconds next link\n",
      "Downloading link 8 of10\n",
      "100% [..........................................................] 12921 / 12921Snoozer for 4 seconds next link\n",
      "Downloading link 9 of10\n",
      "100% [..........................................................] 12901 / 12901Snoozer for 6 seconds next link\n",
      "Downloading link 10 of10\n",
      "100% [..........................................................] 13049 / 13049Snoozer for 3 seconds next link\n"
     ]
    }
   ],
   "source": [
    "links_total = len(all_links)\n",
    "link_count = 1\n",
    "\n",
    "for link in all_links:\n",
    "    print(f\"Downloading link {link_count} of{links_total}\")\n",
    "    link_count += 1\n",
    "    wget.download(link)\n",
    "    snoozer = randrange(3,7)\n",
    "    print(f\"Snoozer for {snoozer} seconds next link\")\n",
    "    time.sleep(snoozer)"
   ]
  },
  {
   "cell_type": "markdown",
   "id": "c5de875e",
   "metadata": {},
   "source": [
    "# 2. Universal conversion function\n",
    "Rewrite your function from last week so it can do both:\n",
    "\n",
    "- take individual string values like ```$12.24267```, ```10,201``` and ```$12,501``` and convert them into floating point numbers like 12.24, 10201.0 and 12501.0\n",
    "\n",
    "- take string values in lists and convert them to floating point numbers. (reminder: you use a zip function).\n",
    "\n",
    "Test it on the numbers above and in this list:"
   ]
  },
  {
   "cell_type": "code",
   "execution_count": 10,
   "id": "e6abb2f6",
   "metadata": {},
   "outputs": [],
   "source": [
    "## list of string numbers\n",
    "string_numbers = [\"$12.24267\", \"10,201\", \"$12,501\", \"42,901\", \"$902,091\"]"
   ]
  },
  {
   "cell_type": "code",
   "execution_count": 6,
   "id": "c46ef8a2",
   "metadata": {},
   "outputs": [],
   "source": [
    "# write function\n",
    "\n",
    "def string2float(a_string):\n",
    "    # The next operation removes $ sign and comma\n",
    "    a_string = a_string.replace(\"$\", \"\").replace(\",\", \"\") \n",
    "    # return what is converted to float and rounded\n",
    "    return round(float(a_string), 2)"
   ]
  },
  {
   "cell_type": "code",
   "execution_count": 13,
   "id": "12c46c4c",
   "metadata": {},
   "outputs": [
    {
     "name": "stdout",
     "output_type": "stream",
     "text": [
      "12.24\n",
      "10201.0\n",
      "12501.0\n",
      "42901.0\n",
      "902091.0\n"
     ]
    }
   ],
   "source": [
    "for num in string_numbers:\n",
    "    print(string2float(num))\n",
    "\n"
   ]
  },
  {
   "cell_type": "code",
   "execution_count": 16,
   "id": "99838d90",
   "metadata": {},
   "outputs": [
    {
     "data": {
      "text/plain": [
       "[12.24, 10201.0, 12501.0, 42901.0, 902091.0]"
      ]
     },
     "execution_count": 16,
     "metadata": {},
     "output_type": "execute_result"
    }
   ],
   "source": [
    "integers_lc = [string2float(num) for num in string_numbers]\n",
    "\n",
    "integers_lc"
   ]
  },
  {
   "cell_type": "code",
   "execution_count": null,
   "id": "07bbf816",
   "metadata": {},
   "outputs": [],
   "source": []
  }
 ],
 "metadata": {
  "kernelspec": {
   "display_name": "Python 3 (ipykernel)",
   "language": "python",
   "name": "python3"
  },
  "language_info": {
   "codemirror_mode": {
    "name": "ipython",
    "version": 3
   },
   "file_extension": ".py",
   "mimetype": "text/x-python",
   "name": "python",
   "nbconvert_exporter": "python",
   "pygments_lexer": "ipython3",
   "version": "3.9.7"
  }
 },
 "nbformat": 4,
 "nbformat_minor": 5
}
